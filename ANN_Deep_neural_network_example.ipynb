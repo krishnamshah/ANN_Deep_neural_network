{
 "cells": [
  {
   "cell_type": "markdown",
   "metadata": {
    "id": "040LeZwgGqa7"
   },
   "source": [
    "# Data pre-processing and visualisation"
   ]
  },
  {
   "cell_type": "code",
   "execution_count": 2,
   "metadata": {
    "colab": {
     "base_uri": "https://localhost:8080/",
     "height": 35
    },
    "id": "d9KmBX59usU3",
    "outputId": "8e136c83-4f1a-4297-98a0-ede31af64abf"
   },
   "outputs": [
    {
     "data": {
      "application/vnd.google.colaboratory.intrinsic+json": {
       "type": "string"
      },
      "text/plain": [
       "'/device:GPU:0'"
      ]
     },
     "execution_count": 2,
     "metadata": {},
     "output_type": "execute_result"
    }
   ],
   "source": [
    "#checking if GPU is connected or not\n",
    "import tensorflow as tf\n",
    "tf.test.gpu_device_name()"
   ]
  },
  {
   "cell_type": "code",
   "execution_count": 3,
   "metadata": {
    "colab": {
     "base_uri": "https://localhost:8080/",
     "height": 0
    },
    "id": "O6qMHSbnuzsW",
    "outputId": "5385f717-006a-4900-b14e-420a8f4f64a9"
   },
   "outputs": [
    {
     "data": {
      "text/plain": [
       "[name: \"/device:CPU:0\"\n",
       " device_type: \"CPU\"\n",
       " memory_limit: 268435456\n",
       " locality {\n",
       " }\n",
       " incarnation: 2247696731490406705, name: \"/device:GPU:0\"\n",
       " device_type: \"GPU\"\n",
       " memory_limit: 11344216064\n",
       " locality {\n",
       "   bus_id: 1\n",
       "   links {\n",
       "   }\n",
       " }\n",
       " incarnation: 17801271067168416292\n",
       " physical_device_desc: \"device: 0, name: Tesla K80, pci bus id: 0000:00:04.0, compute capability: 3.7\"]"
      ]
     },
     "execution_count": 3,
     "metadata": {},
     "output_type": "execute_result"
    }
   ],
   "source": [
    "#information of the connected device\n",
    "from tensorflow.python.client import device_lib\n",
    "device_lib.list_local_devices()"
   ]
  },
  {
   "cell_type": "code",
   "execution_count": 4,
   "metadata": {
    "colab": {
     "base_uri": "https://localhost:8080/",
     "height": 0
    },
    "id": "yupdI4lRJnCf",
    "outputId": "ae024446-e99b-4e81-a7a3-836135659311"
   },
   "outputs": [
    {
     "name": "stdout",
     "output_type": "stream",
     "text": [
      "Drive already mounted at /content/drive; to attempt to forcibly remount, call drive.mount(\"/content/drive\", force_remount=True).\n"
     ]
    }
   ],
   "source": [
    "#connecting to the google drive and the files\n",
    "from google.colab import drive\n",
    "drive.mount('/content/drive')\n",
    "train_file = '/content/drive/My Drive/Colab Notebooks/CA1/train.csv'\n",
    "test_file = '/content/drive/My Drive/Colab Notebooks/CA1/test.csv'\n",
    "sample_submission_file = '/content/drive/My Drive/Colab Notebooks/CA1/sample_submission.csv'"
   ]
  },
  {
   "cell_type": "code",
   "execution_count": 5,
   "metadata": {
    "id": "CKsFhOwOGqa8"
   },
   "outputs": [],
   "source": [
    "# Import and pre-processing of data.\n",
    "import pandas as pd\n",
    "import numpy as np\n",
    "import seaborn as sns\n",
    "import matplotlib.pyplot as plt\n",
    "from matplotlib.colors import ListedColormap\n",
    "\n",
    "#importing scikit-learn packages that we will be working with\n",
    "from sklearn.svm import SVC\n",
    "from sklearn.model_selection import train_test_split, GridSearchCV\n",
    "from sklearn.preprocessing import StandardScaler\n",
    "from sklearn.metrics import mean_squared_error, r2_score, accuracy_score\n",
    "from sklearn.pipeline import make_pipeline\n",
    "from sklearn.ensemble import RandomForestClassifier, GradientBoostingClassifier\n",
    "from sklearn.linear_model import LogisticRegression\n",
    "from sklearn.metrics import classification_report, confusion_matrix\n",
    "\n",
    "#ANN packages\n",
    "import time\n",
    "import tensorflow as tf\n",
    "from tensorflow import keras\n",
    "from tensorflow.keras import layers\n",
    "from tensorflow.keras import models\n",
    "from keras.models import Sequential\n",
    "from keras.layers import Activation, Dense"
   ]
  },
  {
   "cell_type": "code",
   "execution_count": 6,
   "metadata": {
    "id": "BmkL42qCIuot"
   },
   "outputs": [],
   "source": [
    "#importing the dataset \n",
    "\n",
    "train_file = '/content/drive/My Drive/Colab Notebooks/CA1/train.csv'\n",
    "test_file = '/content/drive/My Drive/Colab Notebooks/CA1/test.csv'\n",
    "sample_submission_file = '/content/drive/My Drive/Colab Notebooks/CA1/sample_submission.csv'\n",
    "\n",
    "sample_submission = pd.read_csv(sample_submission_file)\n",
    "train_data = pd.read_csv(train_file)\n",
    "test_data = pd.read_csv(test_file)\n",
    "\n",
    "#dropping unnecessary column from train dataset and test dataset\n",
    "train_data = train_data.drop([\"Unnamed: 0\"],axis=1)\n",
    "X_test = test_data.drop([\"Unnamed: 0\"],axis=1)\n",
    "\n",
    "X = train_data.drop('target', axis=1)\n",
    "y = train_data.target"
   ]
  },
  {
   "cell_type": "code",
   "execution_count": 7,
   "metadata": {
    "colab": {
     "base_uri": "https://localhost:8080/",
     "height": 0
    },
    "id": "h6VR5jQzSQYP",
    "outputId": "a356473d-c75e-4329-eda7-57b16efa9690"
   },
   "outputs": [
    {
     "name": "stdout",
     "output_type": "stream",
     "text": [
      "<class 'pandas.core.frame.DataFrame'>\n",
      "RangeIndex: 160000 entries, 0 to 159999\n",
      "Data columns (total 9 columns):\n",
      " #   Column  Non-Null Count   Dtype  \n",
      "---  ------  --------------   -----  \n",
      " 0   col_0   160000 non-null  float64\n",
      " 1   col_1   160000 non-null  float64\n",
      " 2   col_2   160000 non-null  float64\n",
      " 3   col_3   160000 non-null  float64\n",
      " 4   col_4   160000 non-null  float64\n",
      " 5   col_5   160000 non-null  float64\n",
      " 6   col_6   160000 non-null  float64\n",
      " 7   col_7   160000 non-null  float64\n",
      " 8   col_8   160000 non-null  float64\n",
      "dtypes: float64(9)\n",
      "memory usage: 11.0 MB\n"
     ]
    }
   ],
   "source": [
    "X.info()"
   ]
  },
  {
   "cell_type": "markdown",
   "metadata": {
    "id": "xo9B3IEOXR2K"
   },
   "source": [
    "The pie plot shows how the suvived and not survived are distributed in the training data. Here, 57.104% didn't survive. "
   ]
  },
  {
   "cell_type": "code",
   "execution_count": 31,
   "metadata": {
    "colab": {
     "base_uri": "https://localhost:8080/",
     "height": 301
    },
    "id": "qbW-gi3Pqze1",
    "outputId": "b2a33729-4527-4131-e099-bb21dc2b3c4d"
   },
   "outputs": [
    {
     "data": {
      "text/plain": [
       "([<matplotlib.patches.Wedge at 0x7f7bc6225d90>,\n",
       "  <matplotlib.patches.Wedge at 0x7f7bc6231750>],\n",
       " [Text(-1.0727206408999876, -0.24345518393971421, 'Survived'),\n",
       "  Text(1.0727206636939024, 0.24345508350435777, 'Didnt Survive')],\n",
       " [Text(-0.5851203495818114, -0.13279373669438954, '57.104'),\n",
       "  Text(0.5851203620148557, 0.13279368191146784, '42.896')])"
      ]
     },
     "execution_count": 31,
     "metadata": {},
     "output_type": "execute_result"
    },
    {
     "data": {
      "image/png": "[encoded data removed]",
      "text/plain": [
       "<Figure size 216x216 with 1 Axes>"
      ]
     },
     "metadata": {},
     "output_type": "display_data"
    }
   ],
   "source": [
    "plt.figure(figsize=(3,3))\n",
    "plt.pie(y.value_counts(),startangle=90,autopct='%.3f',labels=['Survived', 'Didnt Survive'],shadow=True)"
   ]
  },
  {
   "cell_type": "code",
   "execution_count": 9,
   "metadata": {
    "colab": {
     "base_uri": "https://localhost:8080/",
     "height": 506
    },
    "id": "Nv8I6q7cecfB",
    "outputId": "a71fb872-ded1-4109-afc8-3ab028cacd99"
   },
   "outputs": [
    {
     "data": {
      "text/plain": [
       "<matplotlib.axes._subplots.AxesSubplot at 0x7f7c40491c50>"
      ]
     },
     "execution_count": 9,
     "metadata": {},
     "output_type": "execute_result"
    },
    {
     "data": {
      "image/png": "[encoded data removed]",
      "text/plain": [
       "<Figure size 720x576 with 2 Axes>"
      ]
     },
     "metadata": {
      "needs_background": "light"
     },
     "output_type": "display_data"
    }
   ],
   "source": [
    "#Heatmap\n",
    "plt.figure(figsize=(10,8))\n",
    "sns.heatmap(train_data.corr(),annot=True)"
   ]
  },
  {
   "cell_type": "markdown",
   "metadata": {
    "id": "M8JKp5X_Gqa_"
   },
   "source": [
    "Comments, describe what do you see from the visualisations"
   ]
  },
  {
   "cell_type": "markdown",
   "metadata": {
    "id": "b6rezGRBXnjI"
   },
   "source": [
    "Heat maps .Those that are highest in their value – relative to the other present numbers – will be given a “hot” color, while those that are lower in their value will be given a “cold” color. Col_0 is highly correlated with Col_4 and Col_1.So, change in Col_0 would cause change to another and so the model results fluctuate significantly. Col_1 is least correlated with the target."
   ]
  },
  {
   "cell_type": "markdown",
   "metadata": {
    "id": "6hBYj0n_ZoUf"
   },
   "source": [
    "#Preprocessing"
   ]
  },
  {
   "cell_type": "code",
   "execution_count": 10,
   "metadata": {
    "colab": {
     "base_uri": "https://localhost:8080/",
     "height": 0
    },
    "id": "HYD5VEQpa2Gd",
    "outputId": "41d5f508-d5c9-4a66-b694-445cdf95ebb7"
   },
   "outputs": [
    {
     "data": {
      "text/plain": [
       "col_0    0\n",
       "col_1    0\n",
       "col_2    0\n",
       "col_3    0\n",
       "col_4    0\n",
       "col_5    0\n",
       "col_6    0\n",
       "col_7    0\n",
       "col_8    0\n",
       "dtype: int64"
      ]
     },
     "execution_count": 10,
     "metadata": {},
     "output_type": "execute_result"
    }
   ],
   "source": [
    "#Checking for missing values\n",
    "X.isna().sum()\n",
    "X_test.isna().sum()"
   ]
  },
  {
   "cell_type": "code",
   "execution_count": 11,
   "metadata": {
    "id": "avFqzhBvbLNk"
   },
   "outputs": [],
   "source": [
    "#splitting the train data into train and test set\n",
    "X_train, X_val, y_train, y_val = train_test_split(X.values, y, test_size=0.30, random_state=123, stratify=y)"
   ]
  },
  {
   "cell_type": "code",
   "execution_count": 12,
   "metadata": {
    "colab": {
     "base_uri": "https://localhost:8080/",
     "height": 0
    },
    "id": "lEceHpXpbPgF",
    "outputId": "e0c9b70c-3e7f-4191-c098-2a76e3a97608"
   },
   "outputs": [
    {
     "name": "stdout",
     "output_type": "stream",
     "text": [
      "{'logisticregression__C': 0.001, 'logisticregression__penalty': 'l2'}\n",
      "0.7136160714285715\n"
     ]
    }
   ],
   "source": [
    "# Classification model based on algorithms from scikit-learn\n",
    "\n",
    "#Logistic Regression\n",
    "\n",
    "sc = StandardScaler()\n",
    "model = LogisticRegression(random_state=123)\n",
    "pipeline = make_pipeline(sc, model)\n",
    "param_grid = [\n",
    "              {'logisticregression__penalty': ['none']},\n",
    "              {'logisticregression__penalty': ['l2'],'logisticregression__C': [0.001, 0.01, 0.1, 0.5, 1]},\n",
    "              {'logisticregression__penalty': ['l2'],'logisticregression__C': [0.001, 0.01, 0.1, 0.5, 1]}]\n",
    "\n",
    "grid = GridSearchCV(pipeline, param_grid, cv=10, scoring='accuracy', n_jobs=-1)\n",
    "\n",
    "grid.fit(X_train, y_train)\n",
    "\n",
    "print(grid.best_params_)\n",
    "print(grid.best_score_)\n",
    "\n",
    "best_estimator = grid.best_estimator_"
   ]
  },
  {
   "cell_type": "code",
   "execution_count": 13,
   "metadata": {
    "colab": {
     "base_uri": "https://localhost:8080/",
     "height": 80
    },
    "id": "WeDxcoVx2ZZs",
    "outputId": "4ef00502-c339-4b4f-86f0-a27808d1b49f"
   },
   "outputs": [
    {
     "data": {
      "text/html": [
       "<div>\n",
       "<style scoped>\n",
       "    .dataframe tbody tr th:only-of-type {\n",
       "        vertical-align: middle;\n",
       "    }\n",
       "\n",
       "    .dataframe tbody tr th {\n",
       "        vertical-align: top;\n",
       "    }\n",
       "\n",
       "    .dataframe thead th {\n",
       "        text-align: right;\n",
       "    }\n",
       "</style>\n",
       "<table border=\"1\" class=\"dataframe\">\n",
       "  <thead>\n",
       "    <tr style=\"text-align: right;\">\n",
       "      <th></th>\n",
       "      <th>Name</th>\n",
       "      <th>Score</th>\n",
       "    </tr>\n",
       "  </thead>\n",
       "  <tbody>\n",
       "    <tr>\n",
       "      <th>0</th>\n",
       "      <td>Logistic Regression</td>\n",
       "      <td>0.713616</td>\n",
       "    </tr>\n",
       "  </tbody>\n",
       "</table>\n",
       "</div>"
      ],
      "text/plain": [
       "                  Name     Score\n",
       "0  Logistic Regression  0.713616"
      ]
     },
     "execution_count": 13,
     "metadata": {},
     "output_type": "execute_result"
    }
   ],
   "source": [
    "# initialise data of lists.\n",
    "logR = {'Name':['Logistic Regression'],'Score':grid.best_score_}\n",
    "# Creates pandas DataFrame.\n",
    "Best_classi = pd.DataFrame(logR)\n",
    "Best_classi"
   ]
  },
  {
   "cell_type": "code",
   "execution_count": 14,
   "metadata": {
    "colab": {
     "base_uri": "https://localhost:8080/",
     "height": 0
    },
    "id": "70pV-yvFf7_a",
    "outputId": "12595ffd-42d7-425a-eabc-ad967b5e3488"
   },
   "outputs": [
    {
     "name": "stdout",
     "output_type": "stream",
     "text": [
      "Fitting 10 folds for each of 8 candidates, totalling 80 fits\n"
     ]
    },
    {
     "name": "stderr",
     "output_type": "stream",
     "text": [
      "[Parallel(n_jobs=-1)]: Using backend LokyBackend with 2 concurrent workers.\n",
      "[Parallel(n_jobs=-1)]: Done  37 tasks      | elapsed:   52.4s\n",
      "[Parallel(n_jobs=-1)]: Done  80 out of  80 | elapsed:  1.9min finished\n"
     ]
    },
    {
     "name": "stdout",
     "output_type": "stream",
     "text": [
      "{'kneighborsclassifier__n_neighbors': 9}\n",
      "0.7860982142857144\n"
     ]
    }
   ],
   "source": [
    "from sklearn.neighbors import KNeighborsClassifier\n",
    "sc = StandardScaler()\n",
    "model = KNeighborsClassifier()\n",
    "pipeline = make_pipeline(sc, model)\n",
    "\n",
    "param_grid = {\n",
    "    'kneighborsclassifier__n_neighbors': [2,3,5,6,7,8,9,10],\n",
    "}\n",
    "\n",
    "grid = GridSearchCV(pipeline, param_grid, cv=10, n_jobs=-1, verbose=2, scoring='accuracy')\n",
    "\n",
    "grid.fit(X_train, y_train)\n",
    "\n",
    "print(grid.best_params_)\n",
    "print(grid.best_score_)\n",
    "\n",
    "best_estimator = grid.best_estimator_"
   ]
  },
  {
   "cell_type": "code",
   "execution_count": 15,
   "metadata": {
    "colab": {
     "base_uri": "https://localhost:8080/",
     "height": 111
    },
    "id": "oGtEgrsk8x6v",
    "outputId": "69dd4943-2f65-4bc4-96c8-db135f8632ef"
   },
   "outputs": [
    {
     "data": {
      "text/html": [
       "<div>\n",
       "<style scoped>\n",
       "    .dataframe tbody tr th:only-of-type {\n",
       "        vertical-align: middle;\n",
       "    }\n",
       "\n",
       "    .dataframe tbody tr th {\n",
       "        vertical-align: top;\n",
       "    }\n",
       "\n",
       "    .dataframe thead th {\n",
       "        text-align: right;\n",
       "    }\n",
       "</style>\n",
       "<table border=\"1\" class=\"dataframe\">\n",
       "  <thead>\n",
       "    <tr style=\"text-align: right;\">\n",
       "      <th></th>\n",
       "      <th>Name</th>\n",
       "      <th>Score</th>\n",
       "    </tr>\n",
       "  </thead>\n",
       "  <tbody>\n",
       "    <tr>\n",
       "      <th>0</th>\n",
       "      <td>Logistic Regression</td>\n",
       "      <td>0.713616</td>\n",
       "    </tr>\n",
       "    <tr>\n",
       "      <th>1</th>\n",
       "      <td>KNeighborsClassifier</td>\n",
       "      <td>0.786098</td>\n",
       "    </tr>\n",
       "  </tbody>\n",
       "</table>\n",
       "</div>"
      ],
      "text/plain": [
       "                   Name     Score\n",
       "0   Logistic Regression  0.713616\n",
       "1  KNeighborsClassifier  0.786098"
      ]
     },
     "execution_count": 15,
     "metadata": {},
     "output_type": "execute_result"
    }
   ],
   "source": [
    "# initialise data of lists.\n",
    "knn = {'Name':'KNeighborsClassifier','Score':grid.best_score_}\n",
    "# Add to the dataframe\n",
    "Best_classi = Best_classi.append(knn,ignore_index=True)\n",
    "Best_classi"
   ]
  },
  {
   "cell_type": "markdown",
   "metadata": {
    "id": "DnuSCIxcbUXN"
   },
   "source": [
    "KNeighbours Classifier implements the k-nearest neighbors vote."
   ]
  },
  {
   "cell_type": "code",
   "execution_count": 16,
   "metadata": {
    "colab": {
     "base_uri": "https://localhost:8080/",
     "height": 0
    },
    "id": "JeoqWJM1uPps",
    "outputId": "82c8bb98-8ee6-49a1-dd8c-42081f6933c6"
   },
   "outputs": [
    {
     "name": "stdout",
     "output_type": "stream",
     "text": [
      "{'randomforestclassifier__max_depth': 10, 'randomforestclassifier__n_estimators': 100}\n",
      "0.8111428629322096\n"
     ]
    }
   ],
   "source": [
    "#Random Forrest\n",
    "sc = StandardScaler()\n",
    "model = RandomForestClassifier(random_state=123)\n",
    "pipeline = make_pipeline(sc, model)\n",
    "\n",
    "param_grid = {\n",
    "              'randomforestclassifier__max_depth': [10, 50],\n",
    "              'randomforestclassifier__n_estimators': [50, 100]}\n",
    "\n",
    "\n",
    "grid = GridSearchCV(pipeline, param_grid, cv=3, n_jobs=-1, verbose=0, scoring='accuracy')\n",
    "\n",
    "grid.fit(X_train, y_train)\n",
    "\n",
    "print(grid.best_params_)\n",
    "print(grid.best_score_)\n",
    "\n",
    "best_estimator = grid.best_estimator_"
   ]
  },
  {
   "cell_type": "code",
   "execution_count": 17,
   "metadata": {
    "colab": {
     "base_uri": "https://localhost:8080/",
     "height": 80
    },
    "id": "gMLj-XXu89Jt",
    "outputId": "fac86328-2e60-4002-960e-23238175285c"
   },
   "outputs": [
    {
     "data": {
      "text/html": [
       "<div>\n",
       "<style scoped>\n",
       "    .dataframe tbody tr th:only-of-type {\n",
       "        vertical-align: middle;\n",
       "    }\n",
       "\n",
       "    .dataframe tbody tr th {\n",
       "        vertical-align: top;\n",
       "    }\n",
       "\n",
       "    .dataframe thead th {\n",
       "        text-align: right;\n",
       "    }\n",
       "</style>\n",
       "<table border=\"1\" class=\"dataframe\">\n",
       "  <thead>\n",
       "    <tr style=\"text-align: right;\">\n",
       "      <th></th>\n",
       "      <th>Name</th>\n",
       "      <th>Score</th>\n",
       "    </tr>\n",
       "  </thead>\n",
       "  <tbody>\n",
       "    <tr>\n",
       "      <th>0</th>\n",
       "      <td>Random Forrest</td>\n",
       "      <td>0.811143</td>\n",
       "    </tr>\n",
       "  </tbody>\n",
       "</table>\n",
       "</div>"
      ],
      "text/plain": [
       "             Name     Score\n",
       "0  Random Forrest  0.811143"
      ]
     },
     "execution_count": 17,
     "metadata": {},
     "output_type": "execute_result"
    }
   ],
   "source": [
    "# initialise data of lists.\n",
    "rf = {'Name':['Random Forrest'],'Score':grid.best_score_}\n",
    "# Creates pandas DataFrame.\n",
    "Best_en = pd.DataFrame(rf)\n",
    "Best_en"
   ]
  },
  {
   "cell_type": "markdown",
   "metadata": {
    "id": "XQ0MhZRXdUjx"
   },
   "source": [
    "RandomForestClassifier is a supervised learning algorithm which is a collection of many decision trees. It utilizes ensemble technique, that combines many classifiers to a complex problem to provide a solution."
   ]
  },
  {
   "cell_type": "code",
   "execution_count": 18,
   "metadata": {
    "colab": {
     "base_uri": "https://localhost:8080/",
     "height": 0
    },
    "id": "RN2yC8BOjLgh",
    "outputId": "d23cc4e4-eaf7-47d9-9f07-ac066ee6dbc6"
   },
   "outputs": [
    {
     "name": "stdout",
     "output_type": "stream",
     "text": [
      "{'gradientboostingclassifier__max_depth': 10, 'gradientboostingclassifier__n_estimators': 50}\n",
      "0.8109107019788903\n"
     ]
    }
   ],
   "source": [
    "#GradientBoostingClassifier\n",
    "sc = StandardScaler()\n",
    "model = GradientBoostingClassifier(random_state=123)\n",
    "pipeline = make_pipeline(sc, model)\n",
    "\n",
    "param_grid = {\n",
    "              'gradientboostingclassifier__max_depth': [1, 10, 50],\n",
    "              'gradientboostingclassifier__n_estimators': [10, 50]}\n",
    "\n",
    "\n",
    "grid = GridSearchCV(pipeline, param_grid, cv=3, n_jobs=-1, verbose=0, scoring='accuracy')\n",
    "\n",
    "grid.fit(X_train, y_train)\n",
    "\n",
    "print(grid.best_params_)\n",
    "print(grid.best_score_)\n",
    "\n",
    "best_estimator = grid.best_estimator_"
   ]
  },
  {
   "cell_type": "code",
   "execution_count": 19,
   "metadata": {
    "colab": {
     "base_uri": "https://localhost:8080/",
     "height": 111
    },
    "id": "-sjgMx6f9MmR",
    "outputId": "09701f67-55ee-446c-a2e1-09860df11940"
   },
   "outputs": [
    {
     "data": {
      "text/html": [
       "<div>\n",
       "<style scoped>\n",
       "    .dataframe tbody tr th:only-of-type {\n",
       "        vertical-align: middle;\n",
       "    }\n",
       "\n",
       "    .dataframe tbody tr th {\n",
       "        vertical-align: top;\n",
       "    }\n",
       "\n",
       "    .dataframe thead th {\n",
       "        text-align: right;\n",
       "    }\n",
       "</style>\n",
       "<table border=\"1\" class=\"dataframe\">\n",
       "  <thead>\n",
       "    <tr style=\"text-align: right;\">\n",
       "      <th></th>\n",
       "      <th>Name</th>\n",
       "      <th>Score</th>\n",
       "    </tr>\n",
       "  </thead>\n",
       "  <tbody>\n",
       "    <tr>\n",
       "      <th>0</th>\n",
       "      <td>Random Forrest</td>\n",
       "      <td>0.811143</td>\n",
       "    </tr>\n",
       "    <tr>\n",
       "      <th>1</th>\n",
       "      <td>GradientBoostingClassifier</td>\n",
       "      <td>0.810911</td>\n",
       "    </tr>\n",
       "  </tbody>\n",
       "</table>\n",
       "</div>"
      ],
      "text/plain": [
       "                         Name     Score\n",
       "0              Random Forrest  0.811143\n",
       "1  GradientBoostingClassifier  0.810911"
      ]
     },
     "execution_count": 19,
     "metadata": {},
     "output_type": "execute_result"
    }
   ],
   "source": [
    "# initialise data of lists.\n",
    "gb = {'Name':'GradientBoostingClassifier','Score':grid.best_score_}\n",
    "Best_en = Best_en.append(gb,ignore_index=True)\n",
    "Best_en"
   ]
  },
  {
   "cell_type": "code",
   "execution_count": 20,
   "metadata": {
    "colab": {
     "base_uri": "https://localhost:8080/",
     "height": 0
    },
    "id": "T-v74T2DbYcU",
    "outputId": "6c402209-6ce0-4907-cb39-a6e36f70eef6"
   },
   "outputs": [
    {
     "name": "stdout",
     "output_type": "stream",
     "text": [
      "              precision    recall  f1-score   support\n",
      "\n",
      "         0.0       0.83      0.84      0.84     27410\n",
      "         1.0       0.79      0.78      0.78     20590\n",
      "\n",
      "    accuracy                           0.81     48000\n",
      "   macro avg       0.81      0.81      0.81     48000\n",
      "weighted avg       0.81      0.81      0.81     48000\n",
      "\n",
      "[[23037  4373]\n",
      " [ 4579 16011]]\n"
     ]
    }
   ],
   "source": [
    "print(classification_report(y_val, best_estimator.predict(X_val)))\n",
    "print(confusion_matrix(y_val, best_estimator.predict(X_val)))"
   ]
  },
  {
   "cell_type": "markdown",
   "metadata": {
    "id": "-FVX17S5Ky4f"
   },
   "source": [
    "We have got almost 83% prediction result.\n",
    "\n",
    "\n",
    "*   23037 patients were predicted that they will not survive,the Prediction was CORRECT (True-Positive)\n",
    "*   16011 patients were predicted that they will survive,the Prediction was CORRECT (True-Negative)\n",
    "*   4373 patients were predicted that they will not survive but the Prediction was WRONG (False-Positive)\n",
    "*   4579 patients were predicted that they will survive but the Prediction was WRONG (False-Negative)\n",
    "\n",
    "\n",
    "\n",
    "\n",
    "\n",
    "\n",
    "\n"
   ]
  },
  {
   "cell_type": "markdown",
   "metadata": {
    "id": "xhtPBJRItr07"
   },
   "source": [
    "# **ANN** - Artificial Neural Network"
   ]
  },
  {
   "cell_type": "code",
   "execution_count": 21,
   "metadata": {
    "id": "AoJV-6vba6yz"
   },
   "outputs": [],
   "source": [
    "sc = StandardScaler()\n",
    "\n",
    "X_train_std = sc.fit_transform(X_train)\n",
    "X_val_std = sc.transform(X_val)\n",
    "X_test_std = sc.transform(X_test)"
   ]
  },
  {
   "cell_type": "code",
   "execution_count": 23,
   "metadata": {
    "id": "S-WCy-fCbFC5"
   },
   "outputs": [],
   "source": [
    "#Define, compile or train model\n",
    "from keras.layers import Dropout\n",
    "model = Sequential()\n",
    "model.add(Dense(units = 512, kernel_initializer = 'uniform', activation = 'relu', input_dim = 9))\n",
    "model.add(Dropout(rate = 0.1))\n",
    "\n",
    "model.add(Dense(units = 256, kernel_initializer = 'uniform', activation = 'relu'))\n",
    "model.add(Dropout(rate = 0.1))\n",
    "model.add(Dense(units = 128, kernel_initializer = 'uniform', activation = 'relu'))\n",
    "model.add(Dropout(rate = 0.1))\n",
    "model.add(Dense(units = 64, kernel_initializer = 'uniform', activation = 'relu'))\n",
    "model.add(Dropout(rate = 0.1))\n",
    "model.add(Dense(units = 16, kernel_initializer = 'uniform', activation = 'relu'))\n",
    "model.add(Dropout(rate = 0.1))\n",
    "model.add(Dense(8, activation='relu'))\n",
    "model.add(Dropout(rate = 0.1))\n",
    "model.add(Dense(1, activation='sigmoid'))"
   ]
  },
  {
   "cell_type": "code",
   "execution_count": 24,
   "metadata": {
    "id": "dgBCK4w1bGtR"
   },
   "outputs": [],
   "source": [
    "# compile the model\n",
    "model.compile(loss='BinaryCrossentropy',\n",
    "             optimizer='adam',\n",
    "             metrics=['accuracy'])"
   ]
  },
  {
   "cell_type": "code",
   "execution_count": 25,
   "metadata": {
    "colab": {
     "base_uri": "https://localhost:8080/",
     "height": 0
    },
    "id": "pAf0UHh4bIcD",
    "outputId": "8896005b-1bca-4518-ddb0-65a8a69f95b0"
   },
   "outputs": [
    {
     "name": "stdout",
     "output_type": "stream",
     "text": [
      "Epoch 1/120\n",
      "1494/1494 [==============================] - 12s 6ms/step - loss: 0.4954 - accuracy: 0.7702 - val_loss: 0.4531 - val_accuracy: 0.7966\n",
      "Epoch 2/120\n",
      "1494/1494 [==============================] - 8s 6ms/step - loss: 0.4651 - accuracy: 0.7864 - val_loss: 0.4405 - val_accuracy: 0.7995\n",
      "Epoch 3/120\n",
      "1494/1494 [==============================] - 8s 5ms/step - loss: 0.4582 - accuracy: 0.7898 - val_loss: 0.4470 - val_accuracy: 0.7946\n",
      "Epoch 4/120\n",
      "1494/1494 [==============================] - 8s 5ms/step - loss: 0.4556 - accuracy: 0.7897 - val_loss: 0.4417 - val_accuracy: 0.7976\n",
      "Epoch 5/120\n",
      "1494/1494 [==============================] - 8s 6ms/step - loss: 0.4533 - accuracy: 0.7921 - val_loss: 0.4407 - val_accuracy: 0.8009\n",
      "Epoch 6/120\n",
      "1494/1494 [==============================] - 8s 5ms/step - loss: 0.4530 - accuracy: 0.7908 - val_loss: 0.4340 - val_accuracy: 0.8017\n",
      "Epoch 7/120\n",
      "1494/1494 [==============================] - 8s 5ms/step - loss: 0.4522 - accuracy: 0.7911 - val_loss: 0.4401 - val_accuracy: 0.7997\n",
      "Epoch 8/120\n",
      "1494/1494 [==============================] - 9s 6ms/step - loss: 0.4510 - accuracy: 0.7930 - val_loss: 0.4386 - val_accuracy: 0.7984\n",
      "Epoch 9/120\n",
      "1494/1494 [==============================] - 8s 6ms/step - loss: 0.4504 - accuracy: 0.7926 - val_loss: 0.4340 - val_accuracy: 0.8030\n",
      "Epoch 10/120\n",
      "1494/1494 [==============================] - 8s 5ms/step - loss: 0.4501 - accuracy: 0.7933 - val_loss: 0.4370 - val_accuracy: 0.7993\n",
      "Epoch 11/120\n",
      "1494/1494 [==============================] - 8s 5ms/step - loss: 0.4489 - accuracy: 0.7942 - val_loss: 0.4353 - val_accuracy: 0.8027\n",
      "Epoch 12/120\n",
      "1494/1494 [==============================] - 8s 6ms/step - loss: 0.4489 - accuracy: 0.7937 - val_loss: 0.4381 - val_accuracy: 0.8006\n",
      "Epoch 13/120\n",
      "1494/1494 [==============================] - 8s 6ms/step - loss: 0.4480 - accuracy: 0.7940 - val_loss: 0.4330 - val_accuracy: 0.7998\n",
      "Epoch 14/120\n",
      "1494/1494 [==============================] - 8s 6ms/step - loss: 0.4476 - accuracy: 0.7940 - val_loss: 0.4343 - val_accuracy: 0.8032\n",
      "Epoch 15/120\n",
      "1494/1494 [==============================] - 8s 6ms/step - loss: 0.4472 - accuracy: 0.7939 - val_loss: 0.4339 - val_accuracy: 0.8027\n",
      "Epoch 16/120\n",
      "1494/1494 [==============================] - 8s 5ms/step - loss: 0.4465 - accuracy: 0.7947 - val_loss: 0.4317 - val_accuracy: 0.8012\n",
      "Epoch 17/120\n",
      "1494/1494 [==============================] - 8s 5ms/step - loss: 0.4468 - accuracy: 0.7948 - val_loss: 0.4366 - val_accuracy: 0.8005\n",
      "Epoch 18/120\n",
      "1494/1494 [==============================] - 8s 5ms/step - loss: 0.4466 - accuracy: 0.7961 - val_loss: 0.4327 - val_accuracy: 0.7990\n",
      "Epoch 19/120\n",
      "1494/1494 [==============================] - 8s 6ms/step - loss: 0.4455 - accuracy: 0.7955 - val_loss: 0.4313 - val_accuracy: 0.8021\n",
      "Epoch 20/120\n",
      "1494/1494 [==============================] - 8s 5ms/step - loss: 0.4453 - accuracy: 0.7970 - val_loss: 0.4300 - val_accuracy: 0.8045\n",
      "Epoch 21/120\n",
      "1494/1494 [==============================] - 7s 5ms/step - loss: 0.4455 - accuracy: 0.7963 - val_loss: 0.4349 - val_accuracy: 0.8004\n",
      "Epoch 22/120\n",
      "1494/1494 [==============================] - 8s 5ms/step - loss: 0.4462 - accuracy: 0.7959 - val_loss: 0.4319 - val_accuracy: 0.8003\n",
      "Epoch 23/120\n",
      "1494/1494 [==============================] - 9s 6ms/step - loss: 0.4458 - accuracy: 0.7963 - val_loss: 0.4335 - val_accuracy: 0.8025\n",
      "Epoch 24/120\n",
      "1494/1494 [==============================] - 8s 5ms/step - loss: 0.4452 - accuracy: 0.7968 - val_loss: 0.4296 - val_accuracy: 0.8035\n",
      "Epoch 25/120\n",
      "1494/1494 [==============================] - 8s 6ms/step - loss: 0.4456 - accuracy: 0.7949 - val_loss: 0.4319 - val_accuracy: 0.8006\n",
      "Epoch 26/120\n",
      "1494/1494 [==============================] - 8s 6ms/step - loss: 0.4453 - accuracy: 0.7949 - val_loss: 0.4301 - val_accuracy: 0.8047\n",
      "Epoch 27/120\n",
      "1494/1494 [==============================] - 8s 5ms/step - loss: 0.4454 - accuracy: 0.7958 - val_loss: 0.4312 - val_accuracy: 0.8028\n",
      "Epoch 28/120\n",
      "1494/1494 [==============================] - 8s 5ms/step - loss: 0.4451 - accuracy: 0.7962 - val_loss: 0.4311 - val_accuracy: 0.8015\n",
      "Epoch 29/120\n",
      "1494/1494 [==============================] - 9s 6ms/step - loss: 0.4448 - accuracy: 0.7966 - val_loss: 0.4339 - val_accuracy: 0.8029\n",
      "Epoch 30/120\n",
      "1494/1494 [==============================] - 8s 5ms/step - loss: 0.4448 - accuracy: 0.7976 - val_loss: 0.4329 - val_accuracy: 0.8020\n",
      "Epoch 31/120\n",
      "1494/1494 [==============================] - 8s 5ms/step - loss: 0.4439 - accuracy: 0.7958 - val_loss: 0.4294 - val_accuracy: 0.8040\n",
      "Epoch 32/120\n",
      "1494/1494 [==============================] - 8s 6ms/step - loss: 0.4434 - accuracy: 0.7974 - val_loss: 0.4301 - val_accuracy: 0.8047\n",
      "Epoch 33/120\n",
      "1494/1494 [==============================] - 8s 5ms/step - loss: 0.4437 - accuracy: 0.7980 - val_loss: 0.4305 - val_accuracy: 0.8036\n",
      "Epoch 34/120\n",
      "1494/1494 [==============================] - 8s 5ms/step - loss: 0.4442 - accuracy: 0.7978 - val_loss: 0.4356 - val_accuracy: 0.8007\n",
      "Epoch 35/120\n",
      "1494/1494 [==============================] - 8s 5ms/step - loss: 0.4432 - accuracy: 0.7982 - val_loss: 0.4348 - val_accuracy: 0.8028\n",
      "Epoch 36/120\n",
      "1494/1494 [==============================] - 9s 6ms/step - loss: 0.4424 - accuracy: 0.7982 - val_loss: 0.4308 - val_accuracy: 0.8038\n",
      "Epoch 37/120\n",
      "1494/1494 [==============================] - 8s 5ms/step - loss: 0.4425 - accuracy: 0.7974 - val_loss: 0.4301 - val_accuracy: 0.8056\n",
      "Epoch 38/120\n",
      "1494/1494 [==============================] - 8s 5ms/step - loss: 0.4425 - accuracy: 0.7989 - val_loss: 0.4299 - val_accuracy: 0.8064\n",
      "Epoch 39/120\n",
      "1494/1494 [==============================] - 8s 6ms/step - loss: 0.4428 - accuracy: 0.7979 - val_loss: 0.4311 - val_accuracy: 0.8034\n",
      "Epoch 40/120\n",
      "1494/1494 [==============================] - 8s 6ms/step - loss: 0.4420 - accuracy: 0.7988 - val_loss: 0.4311 - val_accuracy: 0.8043\n",
      "Epoch 41/120\n",
      "1494/1494 [==============================] - 8s 5ms/step - loss: 0.4419 - accuracy: 0.7992 - val_loss: 0.4268 - val_accuracy: 0.8065\n",
      "Epoch 42/120\n",
      "1494/1494 [==============================] - 8s 5ms/step - loss: 0.4414 - accuracy: 0.7997 - val_loss: 0.4343 - val_accuracy: 0.8052\n",
      "Epoch 43/120\n",
      "1494/1494 [==============================] - 9s 6ms/step - loss: 0.4421 - accuracy: 0.7985 - val_loss: 0.4292 - val_accuracy: 0.8049\n",
      "Epoch 44/120\n",
      "1494/1494 [==============================] - 9s 6ms/step - loss: 0.4410 - accuracy: 0.7996 - val_loss: 0.4315 - val_accuracy: 0.8048\n",
      "Epoch 45/120\n",
      "1494/1494 [==============================] - 9s 6ms/step - loss: 0.4410 - accuracy: 0.7997 - val_loss: 0.4278 - val_accuracy: 0.8065\n",
      "Epoch 46/120\n",
      "1494/1494 [==============================] - 8s 6ms/step - loss: 0.4394 - accuracy: 0.8009 - val_loss: 0.4300 - val_accuracy: 0.8062\n",
      "Epoch 47/120\n",
      "1494/1494 [==============================] - 8s 6ms/step - loss: 0.4393 - accuracy: 0.8010 - val_loss: 0.4267 - val_accuracy: 0.8060\n",
      "Epoch 48/120\n",
      "1494/1494 [==============================] - 8s 6ms/step - loss: 0.4394 - accuracy: 0.8013 - val_loss: 0.4306 - val_accuracy: 0.8048\n",
      "Epoch 49/120\n",
      "1494/1494 [==============================] - 9s 6ms/step - loss: 0.4386 - accuracy: 0.8028 - val_loss: 0.4260 - val_accuracy: 0.8082\n",
      "Epoch 50/120\n",
      "1494/1494 [==============================] - 9s 6ms/step - loss: 0.4383 - accuracy: 0.8018 - val_loss: 0.4294 - val_accuracy: 0.8046\n",
      "Epoch 51/120\n",
      "1494/1494 [==============================] - 8s 6ms/step - loss: 0.4393 - accuracy: 0.8016 - val_loss: 0.4286 - val_accuracy: 0.8059\n",
      "Epoch 52/120\n",
      "1494/1494 [==============================] - 9s 6ms/step - loss: 0.4373 - accuracy: 0.8021 - val_loss: 0.4245 - val_accuracy: 0.8054\n",
      "Epoch 53/120\n",
      "1494/1494 [==============================] - 9s 6ms/step - loss: 0.4373 - accuracy: 0.8018 - val_loss: 0.4238 - val_accuracy: 0.8086\n",
      "Epoch 54/120\n",
      "1494/1494 [==============================] - 8s 6ms/step - loss: 0.4369 - accuracy: 0.8030 - val_loss: 0.4258 - val_accuracy: 0.8083\n",
      "Epoch 55/120\n",
      "1494/1494 [==============================] - 8s 6ms/step - loss: 0.4350 - accuracy: 0.8038 - val_loss: 0.4220 - val_accuracy: 0.8090\n",
      "Epoch 56/120\n",
      "1494/1494 [==============================] - 9s 6ms/step - loss: 0.4351 - accuracy: 0.8037 - val_loss: 0.4217 - val_accuracy: 0.8105\n",
      "Epoch 57/120\n",
      "1494/1494 [==============================] - 8s 6ms/step - loss: 0.4368 - accuracy: 0.8028 - val_loss: 0.4241 - val_accuracy: 0.8089\n",
      "Epoch 58/120\n",
      "1494/1494 [==============================] - 8s 5ms/step - loss: 0.4366 - accuracy: 0.8032 - val_loss: 0.4242 - val_accuracy: 0.8091\n",
      "Epoch 59/120\n",
      "1494/1494 [==============================] - 9s 6ms/step - loss: 0.4356 - accuracy: 0.8039 - val_loss: 0.4248 - val_accuracy: 0.8082\n",
      "Epoch 60/120\n",
      "1494/1494 [==============================] - 8s 6ms/step - loss: 0.4360 - accuracy: 0.8026 - val_loss: 0.4227 - val_accuracy: 0.8088\n",
      "Epoch 61/120\n",
      "1494/1494 [==============================] - 8s 5ms/step - loss: 0.4352 - accuracy: 0.8043 - val_loss: 0.4233 - val_accuracy: 0.8086\n",
      "Epoch 62/120\n",
      "1494/1494 [==============================] - 9s 6ms/step - loss: 0.4344 - accuracy: 0.8040 - val_loss: 0.4210 - val_accuracy: 0.8095\n",
      "Epoch 63/120\n",
      "1494/1494 [==============================] - 9s 6ms/step - loss: 0.4350 - accuracy: 0.8038 - val_loss: 0.4245 - val_accuracy: 0.8089\n",
      "Epoch 64/120\n",
      "1494/1494 [==============================] - 8s 6ms/step - loss: 0.4343 - accuracy: 0.8043 - val_loss: 0.4234 - val_accuracy: 0.8088\n",
      "Epoch 65/120\n",
      "1494/1494 [==============================] - 9s 6ms/step - loss: 0.4344 - accuracy: 0.8033 - val_loss: 0.4251 - val_accuracy: 0.8091\n",
      "Epoch 66/120\n",
      "1494/1494 [==============================] - 9s 6ms/step - loss: 0.4341 - accuracy: 0.8041 - val_loss: 0.4220 - val_accuracy: 0.8109\n",
      "Epoch 67/120\n",
      "1494/1494 [==============================] - 8s 6ms/step - loss: 0.4348 - accuracy: 0.8049 - val_loss: 0.4235 - val_accuracy: 0.8092\n",
      "Epoch 68/120\n",
      "1494/1494 [==============================] - 8s 5ms/step - loss: 0.4343 - accuracy: 0.8051 - val_loss: 0.4249 - val_accuracy: 0.8101\n",
      "Epoch 69/120\n",
      "1494/1494 [==============================] - 8s 5ms/step - loss: 0.4344 - accuracy: 0.8048 - val_loss: 0.4203 - val_accuracy: 0.8100\n",
      "Epoch 70/120\n",
      "1494/1494 [==============================] - 8s 5ms/step - loss: 0.4330 - accuracy: 0.8059 - val_loss: 0.4221 - val_accuracy: 0.8094\n",
      "Epoch 71/120\n",
      "1494/1494 [==============================] - 9s 6ms/step - loss: 0.4342 - accuracy: 0.8045 - val_loss: 0.4223 - val_accuracy: 0.8095\n",
      "Epoch 72/120\n",
      "1494/1494 [==============================] - 8s 5ms/step - loss: 0.4340 - accuracy: 0.8052 - val_loss: 0.4208 - val_accuracy: 0.8107\n",
      "Epoch 73/120\n",
      "1494/1494 [==============================] - 8s 5ms/step - loss: 0.4327 - accuracy: 0.8052 - val_loss: 0.4230 - val_accuracy: 0.8088\n",
      "Epoch 74/120\n",
      "1494/1494 [==============================] - 9s 6ms/step - loss: 0.4335 - accuracy: 0.8056 - val_loss: 0.4245 - val_accuracy: 0.8096\n",
      "Epoch 75/120\n",
      "1494/1494 [==============================] - 8s 6ms/step - loss: 0.4329 - accuracy: 0.8059 - val_loss: 0.4220 - val_accuracy: 0.8100\n",
      "Epoch 76/120\n",
      "1494/1494 [==============================] - 8s 6ms/step - loss: 0.4333 - accuracy: 0.8055 - val_loss: 0.4244 - val_accuracy: 0.8100\n",
      "Epoch 77/120\n",
      "1494/1494 [==============================] - 9s 6ms/step - loss: 0.4322 - accuracy: 0.8065 - val_loss: 0.4229 - val_accuracy: 0.8100\n",
      "Epoch 78/120\n",
      "1494/1494 [==============================] - 8s 5ms/step - loss: 0.4335 - accuracy: 0.8061 - val_loss: 0.4222 - val_accuracy: 0.8096\n",
      "Epoch 79/120\n",
      "1494/1494 [==============================] - 8s 5ms/step - loss: 0.4331 - accuracy: 0.8065 - val_loss: 0.4201 - val_accuracy: 0.8114\n",
      "Epoch 80/120\n",
      "1494/1494 [==============================] - 9s 6ms/step - loss: 0.4325 - accuracy: 0.8068 - val_loss: 0.4231 - val_accuracy: 0.8098\n",
      "Epoch 81/120\n",
      "1494/1494 [==============================] - 8s 5ms/step - loss: 0.4325 - accuracy: 0.8069 - val_loss: 0.4216 - val_accuracy: 0.8108\n",
      "Epoch 82/120\n",
      "1494/1494 [==============================] - 9s 6ms/step - loss: 0.4331 - accuracy: 0.8060 - val_loss: 0.4239 - val_accuracy: 0.8097\n",
      "Epoch 83/120\n",
      "1494/1494 [==============================] - 8s 5ms/step - loss: 0.4333 - accuracy: 0.8061 - val_loss: 0.4213 - val_accuracy: 0.8104\n",
      "Epoch 84/120\n",
      "1494/1494 [==============================] - 9s 6ms/step - loss: 0.4334 - accuracy: 0.8051 - val_loss: 0.4213 - val_accuracy: 0.8104\n",
      "Epoch 85/120\n",
      "1494/1494 [==============================] - 8s 6ms/step - loss: 0.4327 - accuracy: 0.8059 - val_loss: 0.4253 - val_accuracy: 0.8086\n",
      "Epoch 86/120\n",
      "1494/1494 [==============================] - 9s 6ms/step - loss: 0.4330 - accuracy: 0.8067 - val_loss: 0.4208 - val_accuracy: 0.8096\n",
      "Epoch 87/120\n",
      "1494/1494 [==============================] - 8s 5ms/step - loss: 0.4324 - accuracy: 0.8056 - val_loss: 0.4211 - val_accuracy: 0.8112\n",
      "Epoch 88/120\n",
      "1494/1494 [==============================] - 9s 6ms/step - loss: 0.4321 - accuracy: 0.8064 - val_loss: 0.4217 - val_accuracy: 0.8108\n",
      "Epoch 89/120\n",
      "1494/1494 [==============================] - 9s 6ms/step - loss: 0.4320 - accuracy: 0.8065 - val_loss: 0.4240 - val_accuracy: 0.8074\n",
      "Epoch 90/120\n",
      "1494/1494 [==============================] - 8s 5ms/step - loss: 0.4321 - accuracy: 0.8051 - val_loss: 0.4263 - val_accuracy: 0.8081\n",
      "Epoch 91/120\n",
      "1494/1494 [==============================] - 8s 5ms/step - loss: 0.4325 - accuracy: 0.8055 - val_loss: 0.4214 - val_accuracy: 0.8102\n",
      "Epoch 92/120\n",
      "1494/1494 [==============================] - 8s 6ms/step - loss: 0.4321 - accuracy: 0.8049 - val_loss: 0.4243 - val_accuracy: 0.8107\n",
      "Epoch 93/120\n",
      "1494/1494 [==============================] - 8s 5ms/step - loss: 0.4320 - accuracy: 0.8068 - val_loss: 0.4236 - val_accuracy: 0.8094\n",
      "Epoch 94/120\n",
      "1494/1494 [==============================] - 8s 5ms/step - loss: 0.4316 - accuracy: 0.8072 - val_loss: 0.4223 - val_accuracy: 0.8100\n",
      "Epoch 95/120\n",
      "1494/1494 [==============================] - 8s 6ms/step - loss: 0.4321 - accuracy: 0.8062 - val_loss: 0.4224 - val_accuracy: 0.8078\n",
      "Epoch 96/120\n",
      "1494/1494 [==============================] - 9s 6ms/step - loss: 0.4315 - accuracy: 0.8063 - val_loss: 0.4220 - val_accuracy: 0.8112\n",
      "Epoch 97/120\n",
      "1494/1494 [==============================] - 8s 6ms/step - loss: 0.4319 - accuracy: 0.8063 - val_loss: 0.4220 - val_accuracy: 0.8106\n",
      "Epoch 98/120\n",
      "1494/1494 [==============================] - 9s 6ms/step - loss: 0.4309 - accuracy: 0.8072 - val_loss: 0.4206 - val_accuracy: 0.8106\n",
      "Epoch 99/120\n",
      "1494/1494 [==============================] - 8s 5ms/step - loss: 0.4298 - accuracy: 0.8074 - val_loss: 0.4236 - val_accuracy: 0.8104\n",
      "Epoch 100/120\n",
      "1494/1494 [==============================] - 9s 6ms/step - loss: 0.4326 - accuracy: 0.8055 - val_loss: 0.4229 - val_accuracy: 0.8096\n",
      "Epoch 101/120\n",
      "1494/1494 [==============================] - 8s 5ms/step - loss: 0.4321 - accuracy: 0.8061 - val_loss: 0.4249 - val_accuracy: 0.8100\n",
      "Epoch 102/120\n",
      "1494/1494 [==============================] - 8s 6ms/step - loss: 0.4330 - accuracy: 0.8058 - val_loss: 0.4209 - val_accuracy: 0.8093\n",
      "Epoch 103/120\n",
      "1494/1494 [==============================] - 8s 5ms/step - loss: 0.4318 - accuracy: 0.8069 - val_loss: 0.4215 - val_accuracy: 0.8108\n",
      "Epoch 104/120\n",
      "1494/1494 [==============================] - 8s 5ms/step - loss: 0.4317 - accuracy: 0.8063 - val_loss: 0.4229 - val_accuracy: 0.8106\n",
      "Epoch 105/120\n",
      "1494/1494 [==============================] - 9s 6ms/step - loss: 0.4312 - accuracy: 0.8068 - val_loss: 0.4242 - val_accuracy: 0.8099\n",
      "Epoch 106/120\n",
      "1494/1494 [==============================] - 8s 6ms/step - loss: 0.4331 - accuracy: 0.8064 - val_loss: 0.4244 - val_accuracy: 0.8086\n",
      "Epoch 107/120\n",
      "1494/1494 [==============================] - 9s 6ms/step - loss: 0.4314 - accuracy: 0.8062 - val_loss: 0.4246 - val_accuracy: 0.8097\n",
      "Epoch 108/120\n",
      "1494/1494 [==============================] - 9s 6ms/step - loss: 0.4320 - accuracy: 0.8062 - val_loss: 0.4225 - val_accuracy: 0.8093\n",
      "Epoch 109/120\n",
      "1494/1494 [==============================] - 8s 6ms/step - loss: 0.4321 - accuracy: 0.8064 - val_loss: 0.4228 - val_accuracy: 0.8095\n",
      "Epoch 110/120\n",
      "1494/1494 [==============================] - 9s 6ms/step - loss: 0.4319 - accuracy: 0.8071 - val_loss: 0.4260 - val_accuracy: 0.8068\n",
      "Epoch 111/120\n",
      "1494/1494 [==============================] - 9s 6ms/step - loss: 0.4306 - accuracy: 0.8060 - val_loss: 0.4234 - val_accuracy: 0.8080\n",
      "Epoch 112/120\n",
      "1494/1494 [==============================] - 8s 5ms/step - loss: 0.4324 - accuracy: 0.8060 - val_loss: 0.4225 - val_accuracy: 0.8063\n",
      "Epoch 113/120\n",
      "1494/1494 [==============================] - 9s 6ms/step - loss: 0.4311 - accuracy: 0.8069 - val_loss: 0.4208 - val_accuracy: 0.8110\n",
      "Epoch 114/120\n",
      "1494/1494 [==============================] - 8s 5ms/step - loss: 0.4313 - accuracy: 0.8073 - val_loss: 0.4217 - val_accuracy: 0.8113\n",
      "Epoch 115/120\n",
      "1494/1494 [==============================] - 9s 6ms/step - loss: 0.4306 - accuracy: 0.8065 - val_loss: 0.4234 - val_accuracy: 0.8088\n",
      "Epoch 116/120\n",
      "1494/1494 [==============================] - 8s 6ms/step - loss: 0.4310 - accuracy: 0.8073 - val_loss: 0.4236 - val_accuracy: 0.8096\n",
      "Epoch 117/120\n",
      "1494/1494 [==============================] - 9s 6ms/step - loss: 0.4316 - accuracy: 0.8066 - val_loss: 0.4241 - val_accuracy: 0.8113\n",
      "Epoch 118/120\n",
      "1494/1494 [==============================] - 9s 6ms/step - loss: 0.4307 - accuracy: 0.8073 - val_loss: 0.4225 - val_accuracy: 0.8112\n",
      "Epoch 119/120\n",
      "1494/1494 [==============================] - 9s 6ms/step - loss: 0.4313 - accuracy: 0.8074 - val_loss: 0.4238 - val_accuracy: 0.8096\n",
      "Epoch 120/120\n",
      "1494/1494 [==============================] - 9s 6ms/step - loss: 0.4308 - accuracy: 0.8065 - val_loss: 0.4220 - val_accuracy: 0.8104\n",
      "Training time:1043.050157546997\n",
      "Model: \"sequential\"\n",
      "_________________________________________________________________\n",
      "Layer (type)                 Output Shape              Param #   \n",
      "=================================================================\n",
      "dense (Dense)                (None, 512)               5120      \n",
      "_________________________________________________________________\n",
      "dropout (Dropout)            (None, 512)               0         \n",
      "_________________________________________________________________\n",
      "dense_1 (Dense)              (None, 256)               131328    \n",
      "_________________________________________________________________\n",
      "dropout_1 (Dropout)          (None, 256)               0         \n",
      "_________________________________________________________________\n",
      "dense_2 (Dense)              (None, 128)               32896     \n",
      "_________________________________________________________________\n",
      "dropout_2 (Dropout)          (None, 128)               0         \n",
      "_________________________________________________________________\n",
      "dense_3 (Dense)              (None, 64)                8256      \n",
      "_________________________________________________________________\n",
      "dropout_3 (Dropout)          (None, 64)                0         \n",
      "_________________________________________________________________\n",
      "dense_4 (Dense)              (None, 16)                1040      \n",
      "_________________________________________________________________\n",
      "dropout_4 (Dropout)          (None, 16)                0         \n",
      "_________________________________________________________________\n",
      "dense_5 (Dense)              (None, 8)                 136       \n",
      "_________________________________________________________________\n",
      "dropout_5 (Dropout)          (None, 8)                 0         \n",
      "_________________________________________________________________\n",
      "dense_6 (Dense)              (None, 1)                 9         \n",
      "=================================================================\n",
      "Total params: 178,785\n",
      "Trainable params: 178,785\n",
      "Non-trainable params: 0\n",
      "_________________________________________________________________\n"
     ]
    }
   ],
   "source": [
    "#  fit the keras model on the dataset(training the model)\n",
    "start = time.time()\n",
    "model.fit(X_train_std, y_train.to_numpy(), epochs=120,  batch_size=60, validation_split=0.2, shuffle=True)\n",
    "stop=time.time()\n",
    "print('Training time:{0}'.format(stop-start))\n",
    "model.summary()"
   ]
  },
  {
   "cell_type": "code",
   "execution_count": 26,
   "metadata": {
    "colab": {
     "base_uri": "https://localhost:8080/",
     "height": 0
    },
    "id": "5mJ43KUpxbB-",
    "outputId": "eb498e39-68c9-4928-f5a5-25fe7ffd58c0"
   },
   "outputs": [
    {
     "name": "stdout",
     "output_type": "stream",
     "text": [
      "1500/1500 [==============================] - 4s 3ms/step - loss: 0.4263 - accuracy: 0.8063\n"
     ]
    }
   ],
   "source": [
    "results = model.evaluate(X_val_std, y_val.to_numpy())"
   ]
  },
  {
   "cell_type": "markdown",
   "metadata": {
    "id": "-1qHVcmNhZ_e"
   },
   "source": [
    "The accuracy is quite good and the loss is also not so bad."
   ]
  },
  {
   "cell_type": "code",
   "execution_count": 27,
   "metadata": {
    "id": "5Nqp_q8KbRRl"
   },
   "outputs": [],
   "source": [
    "# Predicting the Test set results\n",
    "predict = model.predict(X_test_std)\n",
    "predict = np.where(predict < 0.5,0.0,1.0)"
   ]
  },
  {
   "cell_type": "code",
   "execution_count": 28,
   "metadata": {
    "colab": {
     "base_uri": "https://localhost:8080/",
     "height": 0
    },
    "id": "TCfdD7xebVpq",
    "outputId": "acd23d39-dfce-4dee-f33c-76f34622fd63"
   },
   "outputs": [
    {
     "name": "stdout",
     "output_type": "stream",
     "text": [
      "Your submission was sucessfully saved!\n"
     ]
    }
   ],
   "source": [
    "#saving the predited data in CSV format in Google Drive.\n",
    "beatme_submission = sample_submission\n",
    "beatme_submission['Survived'] = predict\n",
    "beatme_submission.to_csv('/content/drive/My Drive/Colab Notebooks/CA1/beatme_submission_ANN.csv', index=False)\n",
    "print(\"Your submission was sucessfully saved!\")"
   ]
  },
  {
   "cell_type": "markdown",
   "metadata": {
    "id": "FOk9ps_DGqbA"
   },
   "source": [
    "# Results"
   ]
  },
  {
   "cell_type": "code",
   "execution_count": 30,
   "metadata": {
    "colab": {
     "base_uri": "https://localhost:8080/",
     "height": 111
    },
    "id": "Cxeey6L2GqbA",
    "outputId": "9c2e1481-0948-4e0e-e55d-592718b888b5"
   },
   "outputs": [
    {
     "data": {
      "text/html": [
       "<div>\n",
       "<style scoped>\n",
       "    .dataframe tbody tr th:only-of-type {\n",
       "        vertical-align: middle;\n",
       "    }\n",
       "\n",
       "    .dataframe tbody tr th {\n",
       "        vertical-align: top;\n",
       "    }\n",
       "\n",
       "    .dataframe thead th {\n",
       "        text-align: right;\n",
       "    }\n",
       "</style>\n",
       "<table border=\"1\" class=\"dataframe\">\n",
       "  <thead>\n",
       "    <tr style=\"text-align: right;\">\n",
       "      <th></th>\n",
       "      <th>Name</th>\n",
       "      <th>Score</th>\n",
       "    </tr>\n",
       "  </thead>\n",
       "  <tbody>\n",
       "    <tr>\n",
       "      <th>0</th>\n",
       "      <td>Logistic Regression</td>\n",
       "      <td>0.713616</td>\n",
       "    </tr>\n",
       "    <tr>\n",
       "      <th>1</th>\n",
       "      <td>KNeighborsClassifier</td>\n",
       "      <td>0.786098</td>\n",
       "    </tr>\n",
       "  </tbody>\n",
       "</table>\n",
       "</div>"
      ],
      "text/plain": [
       "                   Name     Score\n",
       "0   Logistic Regression  0.713616\n",
       "1  KNeighborsClassifier  0.786098"
      ]
     },
     "execution_count": 30,
     "metadata": {},
     "output_type": "execute_result"
    }
   ],
   "source": [
    "# Code for your best classification model (scikit-learn). See Canvas assignment note \"Modelling\" point 1\n",
    "# initialise data of lists.\n",
    "Best_classi"
   ]
  },
  {
   "cell_type": "code",
   "execution_count": 29,
   "metadata": {
    "colab": {
     "base_uri": "https://localhost:8080/",
     "height": 111
    },
    "id": "BeR8LiNNkLrN",
    "outputId": "39770ccd-896e-4604-e02b-fde51943b41c",
    "scrolled": true
   },
   "outputs": [
    {
     "data": {
      "text/html": [
       "<div>\n",
       "<style scoped>\n",
       "    .dataframe tbody tr th:only-of-type {\n",
       "        vertical-align: middle;\n",
       "    }\n",
       "\n",
       "    .dataframe tbody tr th {\n",
       "        vertical-align: top;\n",
       "    }\n",
       "\n",
       "    .dataframe thead th {\n",
       "        text-align: right;\n",
       "    }\n",
       "</style>\n",
       "<table border=\"1\" class=\"dataframe\">\n",
       "  <thead>\n",
       "    <tr style=\"text-align: right;\">\n",
       "      <th></th>\n",
       "      <th>Name</th>\n",
       "      <th>Score</th>\n",
       "    </tr>\n",
       "  </thead>\n",
       "  <tbody>\n",
       "    <tr>\n",
       "      <th>0</th>\n",
       "      <td>Random Forrest</td>\n",
       "      <td>0.811143</td>\n",
       "    </tr>\n",
       "    <tr>\n",
       "      <th>1</th>\n",
       "      <td>GradientBoostingClassifier</td>\n",
       "      <td>0.810911</td>\n",
       "    </tr>\n",
       "  </tbody>\n",
       "</table>\n",
       "</div>"
      ],
      "text/plain": [
       "                         Name     Score\n",
       "0              Random Forrest  0.811143\n",
       "1  GradientBoostingClassifier  0.810911"
      ]
     },
     "execution_count": 29,
     "metadata": {},
     "output_type": "execute_result"
    }
   ],
   "source": [
    "# Code for your best ensemble model (scikit-learn). See Canvas assignment note \"Modelling\" point 1\n",
    "Best_en"
   ]
  }
 ],
 "metadata": {
  "accelerator": "GPU",
  "colab": {
   "collapsed_sections": [
    "Mt4lYbiqGqa4"
   ],
   "name": "Template_Compulsory_Assignment_DAT300.ipynb",
   "provenance": []
  },
  "kernelspec": {
   "display_name": "Python 3 (ipykernel)",
   "language": "python",
   "name": "python3"
  },
  "language_info": {
   "codemirror_mode": {
    "name": "ipython",
    "version": 3
   },
   "file_extension": ".py",
   "mimetype": "text/x-python",
   "name": "python",
   "nbconvert_exporter": "python",
   "pygments_lexer": "ipython3",
   "version": "3.8.8"
  },
  "toc": {
   "base_numbering": 1,
   "nav_menu": {},
   "number_sections": false,
   "sideBar": true,
   "skip_h1_title": true,
   "title_cell": "Table of Contents",
   "title_sidebar": "Contents",
   "toc_cell": false,
   "toc_position": {},
   "toc_section_display": true,
   "toc_window_display": false
  },
  "varInspector": {
   "cols": {
    "lenName": 16,
    "lenType": 16,
    "lenVar": 40
   },
   "kernels_config": {
    "python": {
     "delete_cmd_postfix": "",
     "delete_cmd_prefix": "del ",
     "library": "var_list.py",
     "varRefreshCmd": "print(var_dic_list())"
    },
    "r": {
     "delete_cmd_postfix": ") ",
     "delete_cmd_prefix": "rm(",
     "library": "var_list.r",
     "varRefreshCmd": "cat(var_dic_list()) "
    }
   },
   "types_to_exclude": [
    "module",
    "function",
    "builtin_function_or_method",
    "instance",
    "_Feature"
   ],
   "window_display": false
  }
 },
 "nbformat": 4,
 "nbformat_minor": 1
}
